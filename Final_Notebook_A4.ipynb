{
 "cells": [
  {
   "cell_type": "markdown",
   "id": "b71d9a26-6f4f-4539-86e3-6cd426450db7",
   "metadata": {},
   "source": [
    "# Assignment A3\n",
    "This Jupyter Notebook file is very simple. First, a shapefile is loaded using\n",
    "GeoPandas and then visualized."
   ]
  },
  {
   "cell_type": "code",
   "execution_count": null,
   "id": "64ab69b6-f684-4486-8565-6f931ed8d744",
   "metadata": {},
   "outputs": [],
   "source": [
    "import geopandas as gpd\n",
    "FILE = \"C:\\projects\\python\\A4\\Shapefile\\BIOREGION.shp\"\n",
    "gdf = gpd.read_file(FILE)"
   ]
  },
  {
   "cell_type": "code",
   "execution_count": null,
   "id": "6fbc01b2-1b76-484b-888f-8449b06d8210",
   "metadata": {},
   "outputs": [],
   "source": [
    "gdf.explore()"
   ]
  }
 ],
 "metadata": {
  "kernelspec": {
   "display_name": "Python 3 (ipykernel)",
   "language": "python",
   "name": "python3"
  },
  "language_info": {
   "codemirror_mode": {
    "name": "ipython",
    "version": 3
   },
   "file_extension": ".py",
   "mimetype": "text/x-python",
   "name": "python",
   "nbconvert_exporter": "python",
   "pygments_lexer": "ipython3",
   "version": "3.12.7"
  }
 },
 "nbformat": 4,
 "nbformat_minor": 5
}
